{
 "cells": [
  {
   "cell_type": "code",
   "execution_count": 42,
   "id": "aa5bc8fc",
   "metadata": {},
   "outputs": [
    {
     "data": {
      "text/plain": [
       "array([ 3.32838713e+00, -4.94802979e+01, -2.86960340e+02,  2.67423075e+02,\n",
       "        2.58950793e-01,  4.08982327e+01])"
      ]
     },
     "execution_count": 42,
     "metadata": {},
     "output_type": "execute_result"
    }
   ],
   "source": [
    "import numpy as np\n",
    "from sklearn import linear_model\n",
    "XT = []\n",
    "Dataset = np.array([[1000,35,5,3,365,5,1405],[865,25,6,4,460,4,1200],[900,20,8,5,200,2,1100],[940,40,7,7,800,5,1300],[1500,60,6,5,500,3,2000],[1450,50,8,10,1000,5,3000],[1600,60,8,8,700,4,2500],[1200,30,15,20,1600,5,4500],[700,40,12,16,500,4,1500],[800,10,20,30,2000,4,5000]])\n",
    "X = Dataset[0:10, 0:6]\n",
    "Y = Dataset[0:10, 6]\n",
    "X_transpose = X.transpose()\n",
    "MULX = np.matmul(X_transpose,X)\n",
    "Xinverse = np.linalg.inv(MULX)\n",
    "X123 = np.matmul(X_transpose,Y)\n",
    "Beta = np.matmul(Xinverse,X123)\n",
    "Beta\n"
   ]
  },
  {
   "cell_type": "code",
   "execution_count": null,
   "id": "05683e3a",
   "metadata": {},
   "outputs": [],
   "source": []
  },
  {
   "cell_type": "code",
   "execution_count": null,
   "id": "04cd9cee",
   "metadata": {},
   "outputs": [],
   "source": []
  }
 ],
 "metadata": {
  "kernelspec": {
   "display_name": "Python 3 (ipykernel)",
   "language": "python",
   "name": "python3"
  },
  "language_info": {
   "codemirror_mode": {
    "name": "ipython",
    "version": 3
   },
   "file_extension": ".py",
   "mimetype": "text/x-python",
   "name": "python",
   "nbconvert_exporter": "python",
   "pygments_lexer": "ipython3",
   "version": "3.9.13"
  }
 },
 "nbformat": 4,
 "nbformat_minor": 5
}
