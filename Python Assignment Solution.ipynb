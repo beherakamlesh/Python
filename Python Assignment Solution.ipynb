{
 "cells": [
  {
   "cell_type": "code",
   "execution_count": 8,
   "id": "a7470487",
   "metadata": {},
   "outputs": [],
   "source": [
    "class Vechicle:\n",
    "    def __init__(self):\n",
    "        self.max_speed=max_speed\n",
    "        self.mileage=mileage\n",
    "class Truck(Vechicle):\n",
    "    def __init__(self):\n",
    "        super().__init__()\n",
    "class Bus(Vechicle):\n",
    "    def __init__(self,capacity):\n",
    "        self.capacity=capacity\n",
    "        super().__init__()"
   ]
  },
  {
   "cell_type": "code",
   "execution_count": 19,
   "id": "97187e06",
   "metadata": {},
   "outputs": [
    {
     "name": "stdout",
     "output_type": "stream",
     "text": [
      "Amount Deposited 5000\n",
      "Current Balance 505000\n",
      "Amount Withdrawn 500\n",
      "Current Balance 499500\n"
     ]
    }
   ],
   "source": [
    "class Bank:\n",
    "    def __init__(self,Balance):\n",
    "        self.Balance=Balance\n",
    "    def Deposit(self,Deposit):\n",
    "        print(\"Amount Deposited\",Deposit)\n",
    "        print(\"Current Balance\",self.Balance+Deposit)\n",
    "    def Withdraw(self,Withdraw):\n",
    "        print(\"Amount Withdrawn\",Withdraw)\n",
    "        print(\"Current Balance\",self.Balance-Withdraw)\n",
    "        \n",
    "B=Bank(500000)\n",
    "B.Deposit(5000)\n",
    "B.Withdraw(500)"
   ]
  },
  {
   "cell_type": "code",
   "execution_count": 23,
   "id": "92b8d0b4",
   "metadata": {},
   "outputs": [],
   "source": [
    "from abc import ABC, abstractmethod\n",
    "class Canvas():\n",
    "    @abstractmethod\n",
    "    def area(self,attribute1,attribute2):\n",
    "        self.attribute1=attribute1\n",
    "        self.attribute2=attribute1\n",
    "        \n",
    "class square(Canvas):\n",
    "    def __init__(self):\n",
    "        super().__init__()\n",
    "    \n",
    "class Circle(Canvas):\n",
    "    def __init__(self):\n",
    "        super().__init__()\n",
    "        \n",
    "class Triange(Canvas):\n",
    "    def __init__(self):\n",
    "        super().__init__()"
   ]
  },
  {
   "cell_type": "code",
   "execution_count": 43,
   "id": "24488b26",
   "metadata": {},
   "outputs": [
    {
     "name": "stdout",
     "output_type": "stream",
     "text": [
      "Student Name: Kamlesh Behera\n",
      "Marks: 95\n",
      "Student Name: Sunny Deol\n",
      "Marks: 75\n"
     ]
    }
   ],
   "source": [
    "class Student:\n",
    "    student_name = 'Kamlesh Behera'\n",
    "    marks = 95 \n",
    "print(f\"Student Name: {getattr(Student, 'student_name')}\")\n",
    "print(f\"Marks: {getattr(Student, 'marks')}\")\n",
    "setattr(Student, 'student_name', 'Sunny Deol')\n",
    "setattr(Student, 'marks', 75)\n",
    "print(f\"Student Name: {getattr(Student, 'student_name')}\")\n",
    "print(f\"Marks: {getattr(Student, 'marks')}\")"
   ]
  },
  {
   "cell_type": "code",
   "execution_count": 79,
   "id": "d1b9138e",
   "metadata": {},
   "outputs": [
    {
     "name": "stdout",
     "output_type": "stream",
     "text": [
      "Original attributes :\n",
      "emp_id = 29\n",
      "emp_name = Kamlesh Behera\n",
      "\n",
      "After adding the emp_dept:\n",
      "emp_id = 29\n",
      "emp_name = Kamlesh Behera\n",
      "emp_dept = cse\n",
      "\n",
      "After removing the emp_name:\n",
      "emp_id = 29\n",
      "emp_dept = cse\n"
     ]
    }
   ],
   "source": [
    "class employee:\n",
    "    emp_id = '29' \n",
    "    emp_name = 'Kamlesh Behera' \n",
    "print(\"Original attributes :\")\n",
    "for attr , value in employee.__dict__.items():\n",
    "    if not attr.startswith('_'):\n",
    "        print(f'{attr} = {value}')\n",
    "print(\"\\nAfter adding the emp_dept:\")\n",
    "employee.emp_dept = 'cse'\n",
    "for attr, value in employee.__dict__.items():\n",
    "    if not attr.startswith('_'):\n",
    "        print(f'{attr} = {value}')\n",
    "        \n",
    "        \n",
    "        \n",
    "print(\"\\nAfter removing the emp_name:\")\n",
    "\n",
    "\n",
    "\n",
    "del employee.emp_name\n",
    "for attr, value in employee.__dict__.items():\n",
    "        if not attr.startswith('_'):\n",
    "             print(f'{attr} = {value}')"
   ]
  },
  {
   "cell_type": "code",
   "execution_count": 81,
   "id": "5c75b957",
   "metadata": {},
   "outputs": [
    {
     "name": "stdout",
     "output_type": "stream",
     "text": [
      "[1 2 3 4 5]\n"
     ]
    }
   ],
   "source": []
  },
  {
   "cell_type": "code",
   "execution_count": null,
   "id": "b1104763",
   "metadata": {},
   "outputs": [],
   "source": []
  }
 ],
 "metadata": {
  "kernelspec": {
   "display_name": "Python 3 (ipykernel)",
   "language": "python",
   "name": "python3"
  },
  "language_info": {
   "codemirror_mode": {
    "name": "ipython",
    "version": 3
   },
   "file_extension": ".py",
   "mimetype": "text/x-python",
   "name": "python",
   "nbconvert_exporter": "python",
   "pygments_lexer": "ipython3",
   "version": "3.9.13"
  }
 },
 "nbformat": 4,
 "nbformat_minor": 5
}
